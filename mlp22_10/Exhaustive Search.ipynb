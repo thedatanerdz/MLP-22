{
 "cells": [
  {
   "cell_type": "markdown",
   "metadata": {},
   "source": [
    "# Exhaustive Search"
   ]
  },
  {
   "cell_type": "code",
   "execution_count": 1,
   "metadata": {},
   "outputs": [],
   "source": [
    "import pandas as pd\n",
    "from mlxtend.feature_selection import SequentialFeatureSelector"
   ]
  },
  {
   "cell_type": "code",
   "execution_count": 2,
   "metadata": {},
   "outputs": [],
   "source": [
    "df = pd.read_csv(\"sampledata.csv\")"
   ]
  },
  {
   "cell_type": "code",
   "execution_count": 3,
   "metadata": {},
   "outputs": [
    {
     "data": {
      "text/html": [
       "<div>\n",
       "<style scoped>\n",
       "    .dataframe tbody tr th:only-of-type {\n",
       "        vertical-align: middle;\n",
       "    }\n",
       "\n",
       "    .dataframe tbody tr th {\n",
       "        vertical-align: top;\n",
       "    }\n",
       "\n",
       "    .dataframe thead th {\n",
       "        text-align: right;\n",
       "    }\n",
       "</style>\n",
       "<table border=\"1\" class=\"dataframe\">\n",
       "  <thead>\n",
       "    <tr style=\"text-align: right;\">\n",
       "      <th></th>\n",
       "      <th>age</th>\n",
       "      <th>gender</th>\n",
       "      <th>height</th>\n",
       "      <th>weight</th>\n",
       "      <th>target</th>\n",
       "    </tr>\n",
       "  </thead>\n",
       "  <tbody>\n",
       "    <tr>\n",
       "      <th>0</th>\n",
       "      <td>1.71</td>\n",
       "      <td>1</td>\n",
       "      <td>15.6</td>\n",
       "      <td>127</td>\n",
       "      <td>0</td>\n",
       "    </tr>\n",
       "    <tr>\n",
       "      <th>1</th>\n",
       "      <td>1.78</td>\n",
       "      <td>1</td>\n",
       "      <td>11.2</td>\n",
       "      <td>100</td>\n",
       "      <td>0</td>\n",
       "    </tr>\n",
       "    <tr>\n",
       "      <th>2</th>\n",
       "      <td>2.36</td>\n",
       "      <td>0</td>\n",
       "      <td>18.6</td>\n",
       "      <td>101</td>\n",
       "      <td>0</td>\n",
       "    </tr>\n",
       "    <tr>\n",
       "      <th>3</th>\n",
       "      <td>1.95</td>\n",
       "      <td>1</td>\n",
       "      <td>16.8</td>\n",
       "      <td>113</td>\n",
       "      <td>0</td>\n",
       "    </tr>\n",
       "    <tr>\n",
       "      <th>4</th>\n",
       "      <td>2.59</td>\n",
       "      <td>0</td>\n",
       "      <td>21.0</td>\n",
       "      <td>118</td>\n",
       "      <td>0</td>\n",
       "    </tr>\n",
       "  </tbody>\n",
       "</table>\n",
       "</div>"
      ],
      "text/plain": [
       "    age  gender  height  weight  target\n",
       "0  1.71       1    15.6     127       0\n",
       "1  1.78       1    11.2     100       0\n",
       "2  2.36       0    18.6     101       0\n",
       "3  1.95       1    16.8     113       0\n",
       "4  2.59       0    21.0     118       0"
      ]
     },
     "execution_count": 3,
     "metadata": {},
     "output_type": "execute_result"
    }
   ],
   "source": [
    "df.head()"
   ]
  },
  {
   "cell_type": "code",
   "execution_count": 4,
   "metadata": {},
   "outputs": [
    {
     "data": {
      "text/plain": [
       "age       0\n",
       "gender    0\n",
       "height    0\n",
       "weight    0\n",
       "target    0\n",
       "dtype: int64"
      ]
     },
     "execution_count": 4,
     "metadata": {},
     "output_type": "execute_result"
    }
   ],
   "source": [
    "df.isnull().sum()"
   ]
  },
  {
   "cell_type": "code",
   "execution_count": 5,
   "metadata": {},
   "outputs": [
    {
     "data": {
      "text/plain": [
       "(178, 5)"
      ]
     },
     "execution_count": 5,
     "metadata": {},
     "output_type": "execute_result"
    }
   ],
   "source": [
    "df.shape"
   ]
  },
  {
   "cell_type": "code",
   "execution_count": 6,
   "metadata": {},
   "outputs": [],
   "source": [
    "X = df.iloc[:, 0:4]\n",
    "y = df.iloc[:, -1]"
   ]
  },
  {
   "cell_type": "code",
   "execution_count": 7,
   "metadata": {},
   "outputs": [
    {
     "data": {
      "text/html": [
       "<div>\n",
       "<style scoped>\n",
       "    .dataframe tbody tr th:only-of-type {\n",
       "        vertical-align: middle;\n",
       "    }\n",
       "\n",
       "    .dataframe tbody tr th {\n",
       "        vertical-align: top;\n",
       "    }\n",
       "\n",
       "    .dataframe thead th {\n",
       "        text-align: right;\n",
       "    }\n",
       "</style>\n",
       "<table border=\"1\" class=\"dataframe\">\n",
       "  <thead>\n",
       "    <tr style=\"text-align: right;\">\n",
       "      <th></th>\n",
       "      <th>age</th>\n",
       "      <th>gender</th>\n",
       "      <th>height</th>\n",
       "      <th>weight</th>\n",
       "    </tr>\n",
       "  </thead>\n",
       "  <tbody>\n",
       "    <tr>\n",
       "      <th>0</th>\n",
       "      <td>1.71</td>\n",
       "      <td>1</td>\n",
       "      <td>15.6</td>\n",
       "      <td>127</td>\n",
       "    </tr>\n",
       "    <tr>\n",
       "      <th>1</th>\n",
       "      <td>1.78</td>\n",
       "      <td>1</td>\n",
       "      <td>11.2</td>\n",
       "      <td>100</td>\n",
       "    </tr>\n",
       "    <tr>\n",
       "      <th>2</th>\n",
       "      <td>2.36</td>\n",
       "      <td>0</td>\n",
       "      <td>18.6</td>\n",
       "      <td>101</td>\n",
       "    </tr>\n",
       "    <tr>\n",
       "      <th>3</th>\n",
       "      <td>1.95</td>\n",
       "      <td>1</td>\n",
       "      <td>16.8</td>\n",
       "      <td>113</td>\n",
       "    </tr>\n",
       "    <tr>\n",
       "      <th>4</th>\n",
       "      <td>2.59</td>\n",
       "      <td>0</td>\n",
       "      <td>21.0</td>\n",
       "      <td>118</td>\n",
       "    </tr>\n",
       "  </tbody>\n",
       "</table>\n",
       "</div>"
      ],
      "text/plain": [
       "    age  gender  height  weight\n",
       "0  1.71       1    15.6     127\n",
       "1  1.78       1    11.2     100\n",
       "2  2.36       0    18.6     101\n",
       "3  1.95       1    16.8     113\n",
       "4  2.59       0    21.0     118"
      ]
     },
     "execution_count": 7,
     "metadata": {},
     "output_type": "execute_result"
    }
   ],
   "source": [
    "X.head()"
   ]
  },
  {
   "cell_type": "code",
   "execution_count": 8,
   "metadata": {},
   "outputs": [],
   "source": [
    "from sklearn.model_selection import train_test_split"
   ]
  },
  {
   "cell_type": "code",
   "execution_count": 9,
   "metadata": {},
   "outputs": [],
   "source": [
    "X_train, X_test, y_train, y_test = train_test_split(X, y, test_size=0.3,\n",
    "                                                   random_state= 1)"
   ]
  },
  {
   "cell_type": "code",
   "execution_count": 10,
   "metadata": {},
   "outputs": [],
   "source": [
    "from sklearn.ensemble import RandomForestClassifier"
   ]
  },
  {
   "cell_type": "code",
   "execution_count": 11,
   "metadata": {},
   "outputs": [],
   "source": [
    "from mlxtend.feature_selection import ExhaustiveFeatureSelector"
   ]
  },
  {
   "cell_type": "code",
   "execution_count": 12,
   "metadata": {},
   "outputs": [
    {
     "name": "stderr",
     "output_type": "stream",
     "text": [
      "Features: 15/15"
     ]
    }
   ],
   "source": [
    "efs = ExhaustiveFeatureSelector(RandomForestClassifier(n_jobs=-1),\n",
    "                               min_features=1,\n",
    "                               max_features=4,\n",
    "                               scoring= \"accuracy\",\n",
    "                               cv = 2,\n",
    "                               n_jobs=-1).fit(X_train, y_train)"
   ]
  },
  {
   "cell_type": "code",
   "execution_count": 13,
   "metadata": {},
   "outputs": [
    {
     "data": {
      "text/plain": [
       "('age', 'height', 'weight')"
      ]
     },
     "execution_count": 13,
     "metadata": {},
     "output_type": "execute_result"
    }
   ],
   "source": [
    "efs.best_feature_names_"
   ]
  },
  {
   "cell_type": "code",
   "execution_count": 14,
   "metadata": {},
   "outputs": [
    {
     "data": {
      "text/plain": [
       "0.7661290322580645"
      ]
     },
     "execution_count": 14,
     "metadata": {},
     "output_type": "execute_result"
    }
   ],
   "source": [
    "efs.best_score_"
   ]
  },
  {
   "cell_type": "code",
   "execution_count": 15,
   "metadata": {},
   "outputs": [
    {
     "data": {
      "text/html": [
       "<div>\n",
       "<style scoped>\n",
       "    .dataframe tbody tr th:only-of-type {\n",
       "        vertical-align: middle;\n",
       "    }\n",
       "\n",
       "    .dataframe tbody tr th {\n",
       "        vertical-align: top;\n",
       "    }\n",
       "\n",
       "    .dataframe thead th {\n",
       "        text-align: right;\n",
       "    }\n",
       "</style>\n",
       "<table border=\"1\" class=\"dataframe\">\n",
       "  <thead>\n",
       "    <tr style=\"text-align: right;\">\n",
       "      <th></th>\n",
       "      <th>feature_idx</th>\n",
       "      <th>cv_scores</th>\n",
       "      <th>avg_score</th>\n",
       "      <th>feature_names</th>\n",
       "      <th>ci_bound</th>\n",
       "      <th>std_dev</th>\n",
       "      <th>std_err</th>\n",
       "    </tr>\n",
       "  </thead>\n",
       "  <tbody>\n",
       "    <tr>\n",
       "      <th>0</th>\n",
       "      <td>(0,)</td>\n",
       "      <td>[0.5967741935483871, 0.6774193548387096]</td>\n",
       "      <td>0.637097</td>\n",
       "      <td>(age,)</td>\n",
       "      <td>0.173494</td>\n",
       "      <td>0.0403226</td>\n",
       "      <td>0.0403226</td>\n",
       "    </tr>\n",
       "    <tr>\n",
       "      <th>1</th>\n",
       "      <td>(1,)</td>\n",
       "      <td>[0.41935483870967744, 0.41935483870967744]</td>\n",
       "      <td>0.419355</td>\n",
       "      <td>(gender,)</td>\n",
       "      <td>0</td>\n",
       "      <td>0</td>\n",
       "      <td>0</td>\n",
       "    </tr>\n",
       "    <tr>\n",
       "      <th>2</th>\n",
       "      <td>(2,)</td>\n",
       "      <td>[0.3870967741935484, 0.4838709677419355]</td>\n",
       "      <td>0.435484</td>\n",
       "      <td>(height,)</td>\n",
       "      <td>0.208193</td>\n",
       "      <td>0.0483871</td>\n",
       "      <td>0.0483871</td>\n",
       "    </tr>\n",
       "    <tr>\n",
       "      <th>3</th>\n",
       "      <td>(3,)</td>\n",
       "      <td>[0.45161290322580644, 0.4838709677419355]</td>\n",
       "      <td>0.467742</td>\n",
       "      <td>(weight,)</td>\n",
       "      <td>0.0693976</td>\n",
       "      <td>0.016129</td>\n",
       "      <td>0.016129</td>\n",
       "    </tr>\n",
       "    <tr>\n",
       "      <th>4</th>\n",
       "      <td>(0, 1)</td>\n",
       "      <td>[0.5161290322580645, 0.5161290322580645]</td>\n",
       "      <td>0.516129</td>\n",
       "      <td>(age, gender)</td>\n",
       "      <td>0</td>\n",
       "      <td>0</td>\n",
       "      <td>0</td>\n",
       "    </tr>\n",
       "    <tr>\n",
       "      <th>5</th>\n",
       "      <td>(0, 2)</td>\n",
       "      <td>[0.6290322580645161, 0.7903225806451613]</td>\n",
       "      <td>0.709677</td>\n",
       "      <td>(age, height)</td>\n",
       "      <td>0.346988</td>\n",
       "      <td>0.0806452</td>\n",
       "      <td>0.0806452</td>\n",
       "    </tr>\n",
       "    <tr>\n",
       "      <th>6</th>\n",
       "      <td>(0, 3)</td>\n",
       "      <td>[0.7419354838709677, 0.7258064516129032]</td>\n",
       "      <td>0.733871</td>\n",
       "      <td>(age, weight)</td>\n",
       "      <td>0.0346988</td>\n",
       "      <td>0.00806452</td>\n",
       "      <td>0.00806452</td>\n",
       "    </tr>\n",
       "    <tr>\n",
       "      <th>7</th>\n",
       "      <td>(1, 2)</td>\n",
       "      <td>[0.46774193548387094, 0.5483870967741935]</td>\n",
       "      <td>0.508065</td>\n",
       "      <td>(gender, height)</td>\n",
       "      <td>0.173494</td>\n",
       "      <td>0.0403226</td>\n",
       "      <td>0.0403226</td>\n",
       "    </tr>\n",
       "    <tr>\n",
       "      <th>8</th>\n",
       "      <td>(1, 3)</td>\n",
       "      <td>[0.46774193548387094, 0.4838709677419355]</td>\n",
       "      <td>0.475806</td>\n",
       "      <td>(gender, weight)</td>\n",
       "      <td>0.0346988</td>\n",
       "      <td>0.00806452</td>\n",
       "      <td>0.00806452</td>\n",
       "    </tr>\n",
       "    <tr>\n",
       "      <th>9</th>\n",
       "      <td>(2, 3)</td>\n",
       "      <td>[0.6290322580645161, 0.6451612903225806]</td>\n",
       "      <td>0.637097</td>\n",
       "      <td>(height, weight)</td>\n",
       "      <td>0.0346988</td>\n",
       "      <td>0.00806452</td>\n",
       "      <td>0.00806452</td>\n",
       "    </tr>\n",
       "    <tr>\n",
       "      <th>10</th>\n",
       "      <td>(0, 1, 2)</td>\n",
       "      <td>[0.6129032258064516, 0.6612903225806451]</td>\n",
       "      <td>0.637097</td>\n",
       "      <td>(age, gender, height)</td>\n",
       "      <td>0.104096</td>\n",
       "      <td>0.0241935</td>\n",
       "      <td>0.0241935</td>\n",
       "    </tr>\n",
       "    <tr>\n",
       "      <th>11</th>\n",
       "      <td>(0, 1, 3)</td>\n",
       "      <td>[0.6935483870967742, 0.6935483870967742]</td>\n",
       "      <td>0.693548</td>\n",
       "      <td>(age, gender, weight)</td>\n",
       "      <td>0</td>\n",
       "      <td>0</td>\n",
       "      <td>0</td>\n",
       "    </tr>\n",
       "    <tr>\n",
       "      <th>12</th>\n",
       "      <td>(0, 2, 3)</td>\n",
       "      <td>[0.7741935483870968, 0.7580645161290323]</td>\n",
       "      <td>0.766129</td>\n",
       "      <td>(age, height, weight)</td>\n",
       "      <td>0.0346988</td>\n",
       "      <td>0.00806452</td>\n",
       "      <td>0.00806452</td>\n",
       "    </tr>\n",
       "    <tr>\n",
       "      <th>13</th>\n",
       "      <td>(1, 2, 3)</td>\n",
       "      <td>[0.5483870967741935, 0.6451612903225806]</td>\n",
       "      <td>0.596774</td>\n",
       "      <td>(gender, height, weight)</td>\n",
       "      <td>0.208193</td>\n",
       "      <td>0.0483871</td>\n",
       "      <td>0.0483871</td>\n",
       "    </tr>\n",
       "    <tr>\n",
       "      <th>14</th>\n",
       "      <td>(0, 1, 2, 3)</td>\n",
       "      <td>[0.7096774193548387, 0.7903225806451613]</td>\n",
       "      <td>0.75</td>\n",
       "      <td>(age, gender, height, weight)</td>\n",
       "      <td>0.173494</td>\n",
       "      <td>0.0403226</td>\n",
       "      <td>0.0403226</td>\n",
       "    </tr>\n",
       "  </tbody>\n",
       "</table>\n",
       "</div>"
      ],
      "text/plain": [
       "     feature_idx                                   cv_scores avg_score  \\\n",
       "0           (0,)    [0.5967741935483871, 0.6774193548387096]  0.637097   \n",
       "1           (1,)  [0.41935483870967744, 0.41935483870967744]  0.419355   \n",
       "2           (2,)    [0.3870967741935484, 0.4838709677419355]  0.435484   \n",
       "3           (3,)   [0.45161290322580644, 0.4838709677419355]  0.467742   \n",
       "4         (0, 1)    [0.5161290322580645, 0.5161290322580645]  0.516129   \n",
       "5         (0, 2)    [0.6290322580645161, 0.7903225806451613]  0.709677   \n",
       "6         (0, 3)    [0.7419354838709677, 0.7258064516129032]  0.733871   \n",
       "7         (1, 2)   [0.46774193548387094, 0.5483870967741935]  0.508065   \n",
       "8         (1, 3)   [0.46774193548387094, 0.4838709677419355]  0.475806   \n",
       "9         (2, 3)    [0.6290322580645161, 0.6451612903225806]  0.637097   \n",
       "10     (0, 1, 2)    [0.6129032258064516, 0.6612903225806451]  0.637097   \n",
       "11     (0, 1, 3)    [0.6935483870967742, 0.6935483870967742]  0.693548   \n",
       "12     (0, 2, 3)    [0.7741935483870968, 0.7580645161290323]  0.766129   \n",
       "13     (1, 2, 3)    [0.5483870967741935, 0.6451612903225806]  0.596774   \n",
       "14  (0, 1, 2, 3)    [0.7096774193548387, 0.7903225806451613]      0.75   \n",
       "\n",
       "                    feature_names   ci_bound     std_dev     std_err  \n",
       "0                          (age,)   0.173494   0.0403226   0.0403226  \n",
       "1                       (gender,)          0           0           0  \n",
       "2                       (height,)   0.208193   0.0483871   0.0483871  \n",
       "3                       (weight,)  0.0693976    0.016129    0.016129  \n",
       "4                   (age, gender)          0           0           0  \n",
       "5                   (age, height)   0.346988   0.0806452   0.0806452  \n",
       "6                   (age, weight)  0.0346988  0.00806452  0.00806452  \n",
       "7                (gender, height)   0.173494   0.0403226   0.0403226  \n",
       "8                (gender, weight)  0.0346988  0.00806452  0.00806452  \n",
       "9                (height, weight)  0.0346988  0.00806452  0.00806452  \n",
       "10          (age, gender, height)   0.104096   0.0241935   0.0241935  \n",
       "11          (age, gender, weight)          0           0           0  \n",
       "12          (age, height, weight)  0.0346988  0.00806452  0.00806452  \n",
       "13       (gender, height, weight)   0.208193   0.0483871   0.0483871  \n",
       "14  (age, gender, height, weight)   0.173494   0.0403226   0.0403226  "
      ]
     },
     "execution_count": 15,
     "metadata": {},
     "output_type": "execute_result"
    }
   ],
   "source": [
    "pd.DataFrame.from_dict(efs.get_metric_dict()).T"
   ]
  },
  {
   "cell_type": "code",
   "execution_count": null,
   "metadata": {},
   "outputs": [],
   "source": []
  }
 ],
 "metadata": {
  "kernelspec": {
   "display_name": "Python 3",
   "language": "python",
   "name": "python3"
  },
  "language_info": {
   "codemirror_mode": {
    "name": "ipython",
    "version": 3
   },
   "file_extension": ".py",
   "mimetype": "text/x-python",
   "name": "python",
   "nbconvert_exporter": "python",
   "pygments_lexer": "ipython3",
   "version": "3.8.3"
  }
 },
 "nbformat": 4,
 "nbformat_minor": 4
}
