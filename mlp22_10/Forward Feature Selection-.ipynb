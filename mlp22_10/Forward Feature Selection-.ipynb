{
 "cells": [
  {
   "cell_type": "markdown",
   "metadata": {},
   "source": [
    "# Forward selection"
   ]
  },
  {
   "cell_type": "code",
   "execution_count": 1,
   "metadata": {},
   "outputs": [],
   "source": [
    "import pandas as pd\n",
    "from mlxtend.feature_selection import SequentialFeatureSelector"
   ]
  },
  {
   "cell_type": "code",
   "execution_count": 2,
   "metadata": {},
   "outputs": [],
   "source": [
    "df = pd.read_csv(\"wine.csv\")"
   ]
  },
  {
   "cell_type": "code",
   "execution_count": 3,
   "metadata": {},
   "outputs": [
    {
     "data": {
      "text/html": [
       "<div>\n",
       "<style scoped>\n",
       "    .dataframe tbody tr th:only-of-type {\n",
       "        vertical-align: middle;\n",
       "    }\n",
       "\n",
       "    .dataframe tbody tr th {\n",
       "        vertical-align: top;\n",
       "    }\n",
       "\n",
       "    .dataframe thead th {\n",
       "        text-align: right;\n",
       "    }\n",
       "</style>\n",
       "<table border=\"1\" class=\"dataframe\">\n",
       "  <thead>\n",
       "    <tr style=\"text-align: right;\">\n",
       "      <th></th>\n",
       "      <th>alcohol</th>\n",
       "      <th>malic_acid</th>\n",
       "      <th>ash</th>\n",
       "      <th>alcalinity_of_ash</th>\n",
       "      <th>magnesium</th>\n",
       "      <th>total_phenols</th>\n",
       "      <th>flavanoids</th>\n",
       "      <th>nonflavanoid_phenols</th>\n",
       "      <th>proanthocyanins</th>\n",
       "      <th>color_intensity</th>\n",
       "      <th>hue</th>\n",
       "      <th>od280/od315_of_diluted_wines</th>\n",
       "      <th>proline</th>\n",
       "      <th>target</th>\n",
       "    </tr>\n",
       "  </thead>\n",
       "  <tbody>\n",
       "    <tr>\n",
       "      <th>0</th>\n",
       "      <td>14.23</td>\n",
       "      <td>1.71</td>\n",
       "      <td>2.43</td>\n",
       "      <td>15.6</td>\n",
       "      <td>127</td>\n",
       "      <td>2.80</td>\n",
       "      <td>3.06</td>\n",
       "      <td>0.28</td>\n",
       "      <td>2.29</td>\n",
       "      <td>5.64</td>\n",
       "      <td>1.04</td>\n",
       "      <td>3.92</td>\n",
       "      <td>1065</td>\n",
       "      <td>0</td>\n",
       "    </tr>\n",
       "    <tr>\n",
       "      <th>1</th>\n",
       "      <td>13.20</td>\n",
       "      <td>1.78</td>\n",
       "      <td>2.14</td>\n",
       "      <td>11.2</td>\n",
       "      <td>100</td>\n",
       "      <td>2.65</td>\n",
       "      <td>2.76</td>\n",
       "      <td>0.26</td>\n",
       "      <td>1.28</td>\n",
       "      <td>4.38</td>\n",
       "      <td>1.05</td>\n",
       "      <td>3.40</td>\n",
       "      <td>1050</td>\n",
       "      <td>0</td>\n",
       "    </tr>\n",
       "    <tr>\n",
       "      <th>2</th>\n",
       "      <td>13.16</td>\n",
       "      <td>2.36</td>\n",
       "      <td>2.67</td>\n",
       "      <td>18.6</td>\n",
       "      <td>101</td>\n",
       "      <td>2.80</td>\n",
       "      <td>3.24</td>\n",
       "      <td>0.30</td>\n",
       "      <td>2.81</td>\n",
       "      <td>5.68</td>\n",
       "      <td>1.03</td>\n",
       "      <td>3.17</td>\n",
       "      <td>1185</td>\n",
       "      <td>0</td>\n",
       "    </tr>\n",
       "    <tr>\n",
       "      <th>3</th>\n",
       "      <td>14.37</td>\n",
       "      <td>1.95</td>\n",
       "      <td>2.50</td>\n",
       "      <td>16.8</td>\n",
       "      <td>113</td>\n",
       "      <td>3.85</td>\n",
       "      <td>3.49</td>\n",
       "      <td>0.24</td>\n",
       "      <td>2.18</td>\n",
       "      <td>7.80</td>\n",
       "      <td>0.86</td>\n",
       "      <td>3.45</td>\n",
       "      <td>1480</td>\n",
       "      <td>0</td>\n",
       "    </tr>\n",
       "    <tr>\n",
       "      <th>4</th>\n",
       "      <td>13.24</td>\n",
       "      <td>2.59</td>\n",
       "      <td>2.87</td>\n",
       "      <td>21.0</td>\n",
       "      <td>118</td>\n",
       "      <td>2.80</td>\n",
       "      <td>2.69</td>\n",
       "      <td>0.39</td>\n",
       "      <td>1.82</td>\n",
       "      <td>4.32</td>\n",
       "      <td>1.04</td>\n",
       "      <td>2.93</td>\n",
       "      <td>735</td>\n",
       "      <td>0</td>\n",
       "    </tr>\n",
       "  </tbody>\n",
       "</table>\n",
       "</div>"
      ],
      "text/plain": [
       "   alcohol  malic_acid   ash  alcalinity_of_ash  magnesium  total_phenols  \\\n",
       "0    14.23        1.71  2.43               15.6        127           2.80   \n",
       "1    13.20        1.78  2.14               11.2        100           2.65   \n",
       "2    13.16        2.36  2.67               18.6        101           2.80   \n",
       "3    14.37        1.95  2.50               16.8        113           3.85   \n",
       "4    13.24        2.59  2.87               21.0        118           2.80   \n",
       "\n",
       "   flavanoids  nonflavanoid_phenols  proanthocyanins  color_intensity   hue  \\\n",
       "0        3.06                  0.28             2.29             5.64  1.04   \n",
       "1        2.76                  0.26             1.28             4.38  1.05   \n",
       "2        3.24                  0.30             2.81             5.68  1.03   \n",
       "3        3.49                  0.24             2.18             7.80  0.86   \n",
       "4        2.69                  0.39             1.82             4.32  1.04   \n",
       "\n",
       "   od280/od315_of_diluted_wines  proline  target  \n",
       "0                          3.92     1065       0  \n",
       "1                          3.40     1050       0  \n",
       "2                          3.17     1185       0  \n",
       "3                          3.45     1480       0  \n",
       "4                          2.93      735       0  "
      ]
     },
     "execution_count": 3,
     "metadata": {},
     "output_type": "execute_result"
    }
   ],
   "source": [
    "df.head()"
   ]
  },
  {
   "cell_type": "code",
   "execution_count": 4,
   "metadata": {},
   "outputs": [
    {
     "data": {
      "text/plain": [
       "(178, 14)"
      ]
     },
     "execution_count": 4,
     "metadata": {},
     "output_type": "execute_result"
    }
   ],
   "source": [
    "df.shape"
   ]
  },
  {
   "cell_type": "code",
   "execution_count": 5,
   "metadata": {},
   "outputs": [
    {
     "data": {
      "text/plain": [
       "alcohol                         0\n",
       "malic_acid                      0\n",
       "ash                             0\n",
       "alcalinity_of_ash               0\n",
       "magnesium                       0\n",
       "total_phenols                   0\n",
       "flavanoids                      0\n",
       "nonflavanoid_phenols            0\n",
       "proanthocyanins                 0\n",
       "color_intensity                 0\n",
       "hue                             0\n",
       "od280/od315_of_diluted_wines    0\n",
       "proline                         0\n",
       "target                          0\n",
       "dtype: int64"
      ]
     },
     "execution_count": 5,
     "metadata": {},
     "output_type": "execute_result"
    }
   ],
   "source": [
    "df.isnull().sum()"
   ]
  },
  {
   "cell_type": "code",
   "execution_count": 6,
   "metadata": {},
   "outputs": [
    {
     "data": {
      "text/html": [
       "<div>\n",
       "<style scoped>\n",
       "    .dataframe tbody tr th:only-of-type {\n",
       "        vertical-align: middle;\n",
       "    }\n",
       "\n",
       "    .dataframe tbody tr th {\n",
       "        vertical-align: top;\n",
       "    }\n",
       "\n",
       "    .dataframe thead th {\n",
       "        text-align: right;\n",
       "    }\n",
       "</style>\n",
       "<table border=\"1\" class=\"dataframe\">\n",
       "  <thead>\n",
       "    <tr style=\"text-align: right;\">\n",
       "      <th></th>\n",
       "      <th>alcohol</th>\n",
       "      <th>malic_acid</th>\n",
       "      <th>ash</th>\n",
       "      <th>alcalinity_of_ash</th>\n",
       "      <th>magnesium</th>\n",
       "      <th>total_phenols</th>\n",
       "      <th>flavanoids</th>\n",
       "      <th>nonflavanoid_phenols</th>\n",
       "      <th>proanthocyanins</th>\n",
       "      <th>color_intensity</th>\n",
       "      <th>hue</th>\n",
       "      <th>od280/od315_of_diluted_wines</th>\n",
       "      <th>proline</th>\n",
       "      <th>target</th>\n",
       "    </tr>\n",
       "  </thead>\n",
       "  <tbody>\n",
       "  </tbody>\n",
       "</table>\n",
       "</div>"
      ],
      "text/plain": [
       "Empty DataFrame\n",
       "Columns: [alcohol, malic_acid, ash, alcalinity_of_ash, magnesium, total_phenols, flavanoids, nonflavanoid_phenols, proanthocyanins, color_intensity, hue, od280/od315_of_diluted_wines, proline, target]\n",
       "Index: []"
      ]
     },
     "execution_count": 6,
     "metadata": {},
     "output_type": "execute_result"
    }
   ],
   "source": [
    "df[df.isnull().any(axis=1)]"
   ]
  },
  {
   "cell_type": "code",
   "execution_count": 7,
   "metadata": {},
   "outputs": [],
   "source": [
    "X = df.iloc[:, 0:13]\n",
    "y = df.iloc[:, -1]"
   ]
  },
  {
   "cell_type": "code",
   "execution_count": 8,
   "metadata": {},
   "outputs": [
    {
     "data": {
      "text/html": [
       "<div>\n",
       "<style scoped>\n",
       "    .dataframe tbody tr th:only-of-type {\n",
       "        vertical-align: middle;\n",
       "    }\n",
       "\n",
       "    .dataframe tbody tr th {\n",
       "        vertical-align: top;\n",
       "    }\n",
       "\n",
       "    .dataframe thead th {\n",
       "        text-align: right;\n",
       "    }\n",
       "</style>\n",
       "<table border=\"1\" class=\"dataframe\">\n",
       "  <thead>\n",
       "    <tr style=\"text-align: right;\">\n",
       "      <th></th>\n",
       "      <th>alcohol</th>\n",
       "      <th>malic_acid</th>\n",
       "      <th>ash</th>\n",
       "      <th>alcalinity_of_ash</th>\n",
       "      <th>magnesium</th>\n",
       "      <th>total_phenols</th>\n",
       "      <th>flavanoids</th>\n",
       "      <th>nonflavanoid_phenols</th>\n",
       "      <th>proanthocyanins</th>\n",
       "      <th>color_intensity</th>\n",
       "      <th>hue</th>\n",
       "      <th>od280/od315_of_diluted_wines</th>\n",
       "      <th>proline</th>\n",
       "    </tr>\n",
       "  </thead>\n",
       "  <tbody>\n",
       "    <tr>\n",
       "      <th>0</th>\n",
       "      <td>14.23</td>\n",
       "      <td>1.71</td>\n",
       "      <td>2.43</td>\n",
       "      <td>15.6</td>\n",
       "      <td>127</td>\n",
       "      <td>2.80</td>\n",
       "      <td>3.06</td>\n",
       "      <td>0.28</td>\n",
       "      <td>2.29</td>\n",
       "      <td>5.64</td>\n",
       "      <td>1.04</td>\n",
       "      <td>3.92</td>\n",
       "      <td>1065</td>\n",
       "    </tr>\n",
       "    <tr>\n",
       "      <th>1</th>\n",
       "      <td>13.20</td>\n",
       "      <td>1.78</td>\n",
       "      <td>2.14</td>\n",
       "      <td>11.2</td>\n",
       "      <td>100</td>\n",
       "      <td>2.65</td>\n",
       "      <td>2.76</td>\n",
       "      <td>0.26</td>\n",
       "      <td>1.28</td>\n",
       "      <td>4.38</td>\n",
       "      <td>1.05</td>\n",
       "      <td>3.40</td>\n",
       "      <td>1050</td>\n",
       "    </tr>\n",
       "    <tr>\n",
       "      <th>2</th>\n",
       "      <td>13.16</td>\n",
       "      <td>2.36</td>\n",
       "      <td>2.67</td>\n",
       "      <td>18.6</td>\n",
       "      <td>101</td>\n",
       "      <td>2.80</td>\n",
       "      <td>3.24</td>\n",
       "      <td>0.30</td>\n",
       "      <td>2.81</td>\n",
       "      <td>5.68</td>\n",
       "      <td>1.03</td>\n",
       "      <td>3.17</td>\n",
       "      <td>1185</td>\n",
       "    </tr>\n",
       "    <tr>\n",
       "      <th>3</th>\n",
       "      <td>14.37</td>\n",
       "      <td>1.95</td>\n",
       "      <td>2.50</td>\n",
       "      <td>16.8</td>\n",
       "      <td>113</td>\n",
       "      <td>3.85</td>\n",
       "      <td>3.49</td>\n",
       "      <td>0.24</td>\n",
       "      <td>2.18</td>\n",
       "      <td>7.80</td>\n",
       "      <td>0.86</td>\n",
       "      <td>3.45</td>\n",
       "      <td>1480</td>\n",
       "    </tr>\n",
       "    <tr>\n",
       "      <th>4</th>\n",
       "      <td>13.24</td>\n",
       "      <td>2.59</td>\n",
       "      <td>2.87</td>\n",
       "      <td>21.0</td>\n",
       "      <td>118</td>\n",
       "      <td>2.80</td>\n",
       "      <td>2.69</td>\n",
       "      <td>0.39</td>\n",
       "      <td>1.82</td>\n",
       "      <td>4.32</td>\n",
       "      <td>1.04</td>\n",
       "      <td>2.93</td>\n",
       "      <td>735</td>\n",
       "    </tr>\n",
       "  </tbody>\n",
       "</table>\n",
       "</div>"
      ],
      "text/plain": [
       "   alcohol  malic_acid   ash  alcalinity_of_ash  magnesium  total_phenols  \\\n",
       "0    14.23        1.71  2.43               15.6        127           2.80   \n",
       "1    13.20        1.78  2.14               11.2        100           2.65   \n",
       "2    13.16        2.36  2.67               18.6        101           2.80   \n",
       "3    14.37        1.95  2.50               16.8        113           3.85   \n",
       "4    13.24        2.59  2.87               21.0        118           2.80   \n",
       "\n",
       "   flavanoids  nonflavanoid_phenols  proanthocyanins  color_intensity   hue  \\\n",
       "0        3.06                  0.28             2.29             5.64  1.04   \n",
       "1        2.76                  0.26             1.28             4.38  1.05   \n",
       "2        3.24                  0.30             2.81             5.68  1.03   \n",
       "3        3.49                  0.24             2.18             7.80  0.86   \n",
       "4        2.69                  0.39             1.82             4.32  1.04   \n",
       "\n",
       "   od280/od315_of_diluted_wines  proline  \n",
       "0                          3.92     1065  \n",
       "1                          3.40     1050  \n",
       "2                          3.17     1185  \n",
       "3                          3.45     1480  \n",
       "4                          2.93      735  "
      ]
     },
     "execution_count": 8,
     "metadata": {},
     "output_type": "execute_result"
    }
   ],
   "source": [
    "X.head()"
   ]
  },
  {
   "cell_type": "code",
   "execution_count": 9,
   "metadata": {},
   "outputs": [
    {
     "data": {
      "text/plain": [
       "0      0\n",
       "1      0\n",
       "2      0\n",
       "3      0\n",
       "4      0\n",
       "      ..\n",
       "173    2\n",
       "174    2\n",
       "175    2\n",
       "176    2\n",
       "177    2\n",
       "Name: target, Length: 178, dtype: int64"
      ]
     },
     "execution_count": 9,
     "metadata": {},
     "output_type": "execute_result"
    }
   ],
   "source": [
    "y"
   ]
  },
  {
   "cell_type": "code",
   "execution_count": 10,
   "metadata": {},
   "outputs": [],
   "source": [
    "from sklearn.model_selection import train_test_split\n",
    "X_train, X_test, y_train, y_test = train_test_split(X,y, test_size=0.3, random_state=100)"
   ]
  },
  {
   "cell_type": "code",
   "execution_count": 11,
   "metadata": {},
   "outputs": [],
   "source": [
    "from sklearn.ensemble import RandomForestClassifier"
   ]
  },
  {
   "cell_type": "code",
   "execution_count": 12,
   "metadata": {},
   "outputs": [
    {
     "data": {
      "text/plain": [
       "(124, 13)"
      ]
     },
     "execution_count": 12,
     "metadata": {},
     "output_type": "execute_result"
    }
   ],
   "source": [
    "X_train.shape"
   ]
  },
  {
   "cell_type": "code",
   "execution_count": 13,
   "metadata": {},
   "outputs": [
    {
     "name": "stderr",
     "output_type": "stream",
     "text": [
      "[Parallel(n_jobs=1)]: Using backend SequentialBackend with 1 concurrent workers.\n",
      "[Parallel(n_jobs=1)]: Done   1 out of   1 | elapsed:    2.0s remaining:    0.0s\n",
      "[Parallel(n_jobs=1)]: Done  13 out of  13 | elapsed:   12.1s finished\n",
      "\n",
      "[2022-06-06 20:05:42] Features: 1/6 -- score: 0.7823333333333333[Parallel(n_jobs=1)]: Using backend SequentialBackend with 1 concurrent workers.\n",
      "[Parallel(n_jobs=1)]: Done   1 out of   1 | elapsed:    1.3s remaining:    0.0s\n",
      "[Parallel(n_jobs=1)]: Done  12 out of  12 | elapsed:   14.7s finished\n",
      "\n",
      "[2022-06-06 20:05:57] Features: 2/6 -- score: 0.9436666666666665[Parallel(n_jobs=1)]: Using backend SequentialBackend with 1 concurrent workers.\n",
      "[Parallel(n_jobs=1)]: Done   1 out of   1 | elapsed:    1.0s remaining:    0.0s\n",
      "[Parallel(n_jobs=1)]: Done  11 out of  11 | elapsed:   12.8s finished\n",
      "\n",
      "[2022-06-06 20:06:10] Features: 3/6 -- score: 0.968[Parallel(n_jobs=1)]: Using backend SequentialBackend with 1 concurrent workers.\n",
      "[Parallel(n_jobs=1)]: Done   1 out of   1 | elapsed:    1.3s remaining:    0.0s\n",
      "[Parallel(n_jobs=1)]: Done  10 out of  10 | elapsed:   13.6s finished\n",
      "\n",
      "[2022-06-06 20:06:24] Features: 4/6 -- score: 0.976[Parallel(n_jobs=1)]: Using backend SequentialBackend with 1 concurrent workers.\n",
      "[Parallel(n_jobs=1)]: Done   1 out of   1 | elapsed:    1.3s remaining:    0.0s\n",
      "[Parallel(n_jobs=1)]: Done   9 out of   9 | elapsed:   11.9s finished\n",
      "\n",
      "[2022-06-06 20:06:36] Features: 5/6 -- score: 0.984[Parallel(n_jobs=1)]: Using backend SequentialBackend with 1 concurrent workers.\n",
      "[Parallel(n_jobs=1)]: Done   1 out of   1 | elapsed:    1.2s remaining:    0.0s\n",
      "[Parallel(n_jobs=1)]: Done   8 out of   8 | elapsed:   10.6s finished\n",
      "\n",
      "[2022-06-06 20:06:46] Features: 6/6 -- score: 0.984"
     ]
    }
   ],
   "source": [
    "forward_feature_selection = SequentialFeatureSelector(RandomForestClassifier(n_jobs=-1),\n",
    "                                                     k_features= 6,\n",
    "                                                     forward=True,\n",
    "                                                     floating=False,\n",
    "                                                     verbose=2,\n",
    "                                                     scoring= \"accuracy\",\n",
    "                                                     cv= 5).fit(X_train, y_train)"
   ]
  },
  {
   "cell_type": "code",
   "execution_count": 14,
   "metadata": {},
   "outputs": [
    {
     "data": {
      "text/plain": [
       "(2, 3, 4, 6, 9, 12)"
      ]
     },
     "execution_count": 14,
     "metadata": {},
     "output_type": "execute_result"
    }
   ],
   "source": [
    "forward_feature_selection.k_feature_idx_"
   ]
  },
  {
   "cell_type": "code",
   "execution_count": 15,
   "metadata": {},
   "outputs": [
    {
     "data": {
      "text/plain": [
       "('ash',\n",
       " 'alcalinity_of_ash',\n",
       " 'magnesium',\n",
       " 'flavanoids',\n",
       " 'color_intensity',\n",
       " 'proline')"
      ]
     },
     "execution_count": 15,
     "metadata": {},
     "output_type": "execute_result"
    }
   ],
   "source": [
    "forward_feature_selection.k_feature_names_"
   ]
  },
  {
   "cell_type": "code",
   "execution_count": 16,
   "metadata": {},
   "outputs": [
    {
     "data": {
      "text/plain": [
       "0.984"
      ]
     },
     "execution_count": 16,
     "metadata": {},
     "output_type": "execute_result"
    }
   ],
   "source": [
    "forward_feature_selection.k_score_"
   ]
  },
  {
   "cell_type": "code",
   "execution_count": 17,
   "metadata": {},
   "outputs": [
    {
     "data": {
      "text/html": [
       "<div>\n",
       "<style scoped>\n",
       "    .dataframe tbody tr th:only-of-type {\n",
       "        vertical-align: middle;\n",
       "    }\n",
       "\n",
       "    .dataframe tbody tr th {\n",
       "        vertical-align: top;\n",
       "    }\n",
       "\n",
       "    .dataframe thead th {\n",
       "        text-align: right;\n",
       "    }\n",
       "</style>\n",
       "<table border=\"1\" class=\"dataframe\">\n",
       "  <thead>\n",
       "    <tr style=\"text-align: right;\">\n",
       "      <th></th>\n",
       "      <th>feature_idx</th>\n",
       "      <th>cv_scores</th>\n",
       "      <th>avg_score</th>\n",
       "      <th>feature_names</th>\n",
       "      <th>ci_bound</th>\n",
       "      <th>std_dev</th>\n",
       "      <th>std_err</th>\n",
       "    </tr>\n",
       "  </thead>\n",
       "  <tbody>\n",
       "    <tr>\n",
       "      <th>1</th>\n",
       "      <td>(6,)</td>\n",
       "      <td>[0.76, 0.76, 0.8, 0.8, 0.7916666666666666]</td>\n",
       "      <td>0.782333</td>\n",
       "      <td>(flavanoids,)</td>\n",
       "      <td>0.0237615</td>\n",
       "      <td>0.0184872</td>\n",
       "      <td>0.00924362</td>\n",
       "    </tr>\n",
       "    <tr>\n",
       "      <th>2</th>\n",
       "      <td>(6, 9)</td>\n",
       "      <td>[0.96, 1.0, 1.0, 0.8, 0.9583333333333334]</td>\n",
       "      <td>0.943667</td>\n",
       "      <td>(flavanoids, color_intensity)</td>\n",
       "      <td>0.0952658</td>\n",
       "      <td>0.07412</td>\n",
       "      <td>0.03706</td>\n",
       "    </tr>\n",
       "    <tr>\n",
       "      <th>3</th>\n",
       "      <td>(4, 6, 9)</td>\n",
       "      <td>[0.96, 1.0, 1.0, 0.88, 1.0]</td>\n",
       "      <td>0.968</td>\n",
       "      <td>(magnesium, flavanoids, color_intensity)</td>\n",
       "      <td>0.0599558</td>\n",
       "      <td>0.0466476</td>\n",
       "      <td>0.0233238</td>\n",
       "    </tr>\n",
       "    <tr>\n",
       "      <th>4</th>\n",
       "      <td>(4, 6, 9, 12)</td>\n",
       "      <td>[0.96, 1.0, 0.96, 0.96, 1.0]</td>\n",
       "      <td>0.976</td>\n",
       "      <td>(magnesium, flavanoids, color_intensity, proline)</td>\n",
       "      <td>0.0251865</td>\n",
       "      <td>0.0195959</td>\n",
       "      <td>0.00979796</td>\n",
       "    </tr>\n",
       "    <tr>\n",
       "      <th>5</th>\n",
       "      <td>(2, 4, 6, 9, 12)</td>\n",
       "      <td>[0.96, 1.0, 0.96, 1.0, 1.0]</td>\n",
       "      <td>0.984</td>\n",
       "      <td>(ash, magnesium, flavanoids, color_intensity, ...</td>\n",
       "      <td>0.0251865</td>\n",
       "      <td>0.0195959</td>\n",
       "      <td>0.00979796</td>\n",
       "    </tr>\n",
       "    <tr>\n",
       "      <th>6</th>\n",
       "      <td>(2, 3, 4, 6, 9, 12)</td>\n",
       "      <td>[0.96, 1.0, 0.96, 1.0, 1.0]</td>\n",
       "      <td>0.984</td>\n",
       "      <td>(ash, alcalinity_of_ash, magnesium, flavanoids...</td>\n",
       "      <td>0.0251865</td>\n",
       "      <td>0.0195959</td>\n",
       "      <td>0.00979796</td>\n",
       "    </tr>\n",
       "  </tbody>\n",
       "</table>\n",
       "</div>"
      ],
      "text/plain": [
       "           feature_idx                                   cv_scores avg_score  \\\n",
       "1                 (6,)  [0.76, 0.76, 0.8, 0.8, 0.7916666666666666]  0.782333   \n",
       "2               (6, 9)   [0.96, 1.0, 1.0, 0.8, 0.9583333333333334]  0.943667   \n",
       "3            (4, 6, 9)                 [0.96, 1.0, 1.0, 0.88, 1.0]     0.968   \n",
       "4        (4, 6, 9, 12)                [0.96, 1.0, 0.96, 0.96, 1.0]     0.976   \n",
       "5     (2, 4, 6, 9, 12)                 [0.96, 1.0, 0.96, 1.0, 1.0]     0.984   \n",
       "6  (2, 3, 4, 6, 9, 12)                 [0.96, 1.0, 0.96, 1.0, 1.0]     0.984   \n",
       "\n",
       "                                       feature_names   ci_bound    std_dev  \\\n",
       "1                                      (flavanoids,)  0.0237615  0.0184872   \n",
       "2                      (flavanoids, color_intensity)  0.0952658    0.07412   \n",
       "3           (magnesium, flavanoids, color_intensity)  0.0599558  0.0466476   \n",
       "4  (magnesium, flavanoids, color_intensity, proline)  0.0251865  0.0195959   \n",
       "5  (ash, magnesium, flavanoids, color_intensity, ...  0.0251865  0.0195959   \n",
       "6  (ash, alcalinity_of_ash, magnesium, flavanoids...  0.0251865  0.0195959   \n",
       "\n",
       "      std_err  \n",
       "1  0.00924362  \n",
       "2     0.03706  \n",
       "3   0.0233238  \n",
       "4  0.00979796  \n",
       "5  0.00979796  \n",
       "6  0.00979796  "
      ]
     },
     "execution_count": 17,
     "metadata": {},
     "output_type": "execute_result"
    }
   ],
   "source": [
    "pd.DataFrame.from_dict(forward_feature_selection.get_metric_dict()).T"
   ]
  },
  {
   "cell_type": "code",
   "execution_count": 18,
   "metadata": {},
   "outputs": [
    {
     "name": "stderr",
     "output_type": "stream",
     "text": [
      "[Parallel(n_jobs=1)]: Using backend SequentialBackend with 1 concurrent workers.\n",
      "[Parallel(n_jobs=1)]: Done   1 out of   1 | elapsed:    0.8s remaining:    0.0s\n",
      "[Parallel(n_jobs=1)]: Done  13 out of  13 | elapsed:   16.7s finished\n",
      "\n",
      "[2022-06-06 20:07:03] Features: 1/13 -- score: 0.7823333333333333[Parallel(n_jobs=1)]: Using backend SequentialBackend with 1 concurrent workers.\n",
      "[Parallel(n_jobs=1)]: Done   1 out of   1 | elapsed:    1.2s remaining:    0.0s\n",
      "[Parallel(n_jobs=1)]: Done  12 out of  12 | elapsed:   15.4s finished\n",
      "\n",
      "[2022-06-06 20:07:19] Features: 2/13 -- score: 0.9269999999999999[Parallel(n_jobs=1)]: Using backend SequentialBackend with 1 concurrent workers.\n",
      "[Parallel(n_jobs=1)]: Done   1 out of   1 | elapsed:    1.2s remaining:    0.0s\n",
      "[Parallel(n_jobs=1)]: Done  11 out of  11 | elapsed:   15.0s finished\n",
      "\n",
      "[2022-06-06 20:07:34] Features: 3/13 -- score: 0.9676666666666666[Parallel(n_jobs=1)]: Using backend SequentialBackend with 1 concurrent workers.\n",
      "[Parallel(n_jobs=1)]: Done   1 out of   1 | elapsed:    1.3s remaining:    0.0s\n",
      "[Parallel(n_jobs=1)]: Done  10 out of  10 | elapsed:   13.6s finished\n",
      "\n",
      "[2022-06-06 20:07:48] Features: 4/13 -- score: 0.984[Parallel(n_jobs=1)]: Using backend SequentialBackend with 1 concurrent workers.\n",
      "[Parallel(n_jobs=1)]: Done   1 out of   1 | elapsed:    1.3s remaining:    0.0s\n",
      "[Parallel(n_jobs=1)]: Done   9 out of   9 | elapsed:   11.6s finished\n",
      "\n",
      "[2022-06-06 20:07:59] Features: 5/13 -- score: 0.984[Parallel(n_jobs=1)]: Using backend SequentialBackend with 1 concurrent workers.\n",
      "[Parallel(n_jobs=1)]: Done   1 out of   1 | elapsed:    1.3s remaining:    0.0s\n",
      "[Parallel(n_jobs=1)]: Done   8 out of   8 | elapsed:   10.4s finished\n",
      "\n",
      "[2022-06-06 20:08:10] Features: 6/13 -- score: 0.992[Parallel(n_jobs=1)]: Using backend SequentialBackend with 1 concurrent workers.\n",
      "[Parallel(n_jobs=1)]: Done   1 out of   1 | elapsed:    1.2s remaining:    0.0s\n",
      "[Parallel(n_jobs=1)]: Done   7 out of   7 | elapsed:    9.4s finished\n",
      "\n",
      "[2022-06-06 20:08:19] Features: 7/13 -- score: 0.992[Parallel(n_jobs=1)]: Using backend SequentialBackend with 1 concurrent workers.\n",
      "[Parallel(n_jobs=1)]: Done   1 out of   1 | elapsed:    1.3s remaining:    0.0s\n",
      "[Parallel(n_jobs=1)]: Done   6 out of   6 | elapsed:    8.0s finished\n",
      "\n",
      "[2022-06-06 20:08:28] Features: 8/13 -- score: 0.992[Parallel(n_jobs=1)]: Using backend SequentialBackend with 1 concurrent workers.\n",
      "[Parallel(n_jobs=1)]: Done   1 out of   1 | elapsed:    1.1s remaining:    0.0s\n",
      "[Parallel(n_jobs=1)]: Done   5 out of   5 | elapsed:    6.7s finished\n",
      "\n",
      "[2022-06-06 20:08:34] Features: 9/13 -- score: 0.992[Parallel(n_jobs=1)]: Using backend SequentialBackend with 1 concurrent workers.\n",
      "[Parallel(n_jobs=1)]: Done   1 out of   1 | elapsed:    1.3s remaining:    0.0s\n",
      "[Parallel(n_jobs=1)]: Done   4 out of   4 | elapsed:    5.3s finished\n",
      "\n",
      "[2022-06-06 20:08:40] Features: 10/13 -- score: 0.984[Parallel(n_jobs=1)]: Using backend SequentialBackend with 1 concurrent workers.\n",
      "[Parallel(n_jobs=1)]: Done   1 out of   1 | elapsed:    1.3s remaining:    0.0s\n",
      "[Parallel(n_jobs=1)]: Done   3 out of   3 | elapsed:    4.0s finished\n",
      "\n",
      "[2022-06-06 20:08:44] Features: 11/13 -- score: 0.984[Parallel(n_jobs=1)]: Using backend SequentialBackend with 1 concurrent workers.\n",
      "[Parallel(n_jobs=1)]: Done   1 out of   1 | elapsed:    1.3s remaining:    0.0s\n",
      "[Parallel(n_jobs=1)]: Done   2 out of   2 | elapsed:    2.6s finished\n",
      "\n",
      "[2022-06-06 20:08:47] Features: 12/13 -- score: 0.992[Parallel(n_jobs=1)]: Using backend SequentialBackend with 1 concurrent workers.\n",
      "[Parallel(n_jobs=1)]: Done   1 out of   1 | elapsed:    1.3s remaining:    0.0s\n",
      "[Parallel(n_jobs=1)]: Done   1 out of   1 | elapsed:    1.3s finished\n",
      "\n",
      "[2022-06-06 20:08:48] Features: 13/13 -- score: 0.984"
     ]
    }
   ],
   "source": [
    "forward_feature_selection = SequentialFeatureSelector(RandomForestClassifier(n_jobs=-1),\n",
    "                                                     k_features= (1,13),\n",
    "                                                     forward=True,\n",
    "                                                     floating=False,\n",
    "                                                     verbose=2,\n",
    "                                                     scoring= \"accuracy\",\n",
    "                                                     cv= 5).fit(X_train, y_train)"
   ]
  },
  {
   "cell_type": "code",
   "execution_count": 19,
   "metadata": {},
   "outputs": [
    {
     "data": {
      "text/plain": [
       "('alcohol', 'ash', 'magnesium', 'flavanoids', 'color_intensity', 'proline')"
      ]
     },
     "execution_count": 19,
     "metadata": {},
     "output_type": "execute_result"
    }
   ],
   "source": [
    "forward_feature_selection.k_feature_names_"
   ]
  },
  {
   "cell_type": "code",
   "execution_count": 20,
   "metadata": {},
   "outputs": [
    {
     "data": {
      "text/plain": [
       "0.992"
      ]
     },
     "execution_count": 20,
     "metadata": {},
     "output_type": "execute_result"
    }
   ],
   "source": [
    "forward_feature_selection.k_score_"
   ]
  },
  {
   "cell_type": "code",
   "execution_count": 21,
   "metadata": {},
   "outputs": [
    {
     "data": {
      "text/html": [
       "<div>\n",
       "<style scoped>\n",
       "    .dataframe tbody tr th:only-of-type {\n",
       "        vertical-align: middle;\n",
       "    }\n",
       "\n",
       "    .dataframe tbody tr th {\n",
       "        vertical-align: top;\n",
       "    }\n",
       "\n",
       "    .dataframe thead th {\n",
       "        text-align: right;\n",
       "    }\n",
       "</style>\n",
       "<table border=\"1\" class=\"dataframe\">\n",
       "  <thead>\n",
       "    <tr style=\"text-align: right;\">\n",
       "      <th></th>\n",
       "      <th>feature_idx</th>\n",
       "      <th>cv_scores</th>\n",
       "      <th>avg_score</th>\n",
       "      <th>feature_names</th>\n",
       "      <th>ci_bound</th>\n",
       "      <th>std_dev</th>\n",
       "      <th>std_err</th>\n",
       "    </tr>\n",
       "  </thead>\n",
       "  <tbody>\n",
       "    <tr>\n",
       "      <th>1</th>\n",
       "      <td>(6,)</td>\n",
       "      <td>[0.76, 0.76, 0.8, 0.8, 0.7916666666666666]</td>\n",
       "      <td>0.782333</td>\n",
       "      <td>(flavanoids,)</td>\n",
       "      <td>0.0237615</td>\n",
       "      <td>0.0184872</td>\n",
       "      <td>0.00924362</td>\n",
       "    </tr>\n",
       "    <tr>\n",
       "      <th>2</th>\n",
       "      <td>(6, 9)</td>\n",
       "      <td>[0.92, 0.96, 1.0, 0.88, 0.875]</td>\n",
       "      <td>0.927</td>\n",
       "      <td>(flavanoids, color_intensity)</td>\n",
       "      <td>0.0613179</td>\n",
       "      <td>0.0477074</td>\n",
       "      <td>0.0238537</td>\n",
       "    </tr>\n",
       "    <tr>\n",
       "      <th>3</th>\n",
       "      <td>(4, 6, 9)</td>\n",
       "      <td>[1.0, 1.0, 1.0, 0.88, 0.9583333333333334]</td>\n",
       "      <td>0.967667</td>\n",
       "      <td>(magnesium, flavanoids, color_intensity)</td>\n",
       "      <td>0.0600353</td>\n",
       "      <td>0.0467095</td>\n",
       "      <td>0.0233548</td>\n",
       "    </tr>\n",
       "    <tr>\n",
       "      <th>4</th>\n",
       "      <td>(4, 6, 9, 12)</td>\n",
       "      <td>[0.96, 1.0, 0.96, 1.0, 1.0]</td>\n",
       "      <td>0.984</td>\n",
       "      <td>(magnesium, flavanoids, color_intensity, proline)</td>\n",
       "      <td>0.0251865</td>\n",
       "      <td>0.0195959</td>\n",
       "      <td>0.00979796</td>\n",
       "    </tr>\n",
       "    <tr>\n",
       "      <th>5</th>\n",
       "      <td>(2, 4, 6, 9, 12)</td>\n",
       "      <td>[0.96, 1.0, 0.96, 1.0, 1.0]</td>\n",
       "      <td>0.984</td>\n",
       "      <td>(ash, magnesium, flavanoids, color_intensity, ...</td>\n",
       "      <td>0.0251865</td>\n",
       "      <td>0.0195959</td>\n",
       "      <td>0.00979796</td>\n",
       "    </tr>\n",
       "    <tr>\n",
       "      <th>6</th>\n",
       "      <td>(0, 2, 4, 6, 9, 12)</td>\n",
       "      <td>[0.96, 1.0, 1.0, 1.0, 1.0]</td>\n",
       "      <td>0.992</td>\n",
       "      <td>(alcohol, ash, magnesium, flavanoids, color_in...</td>\n",
       "      <td>0.0205647</td>\n",
       "      <td>0.016</td>\n",
       "      <td>0.008</td>\n",
       "    </tr>\n",
       "    <tr>\n",
       "      <th>7</th>\n",
       "      <td>(0, 2, 4, 6, 7, 9, 12)</td>\n",
       "      <td>[0.96, 1.0, 1.0, 1.0, 1.0]</td>\n",
       "      <td>0.992</td>\n",
       "      <td>(alcohol, ash, magnesium, flavanoids, nonflava...</td>\n",
       "      <td>0.0205647</td>\n",
       "      <td>0.016</td>\n",
       "      <td>0.008</td>\n",
       "    </tr>\n",
       "    <tr>\n",
       "      <th>8</th>\n",
       "      <td>(0, 2, 3, 4, 6, 7, 9, 12)</td>\n",
       "      <td>[0.96, 1.0, 1.0, 1.0, 1.0]</td>\n",
       "      <td>0.992</td>\n",
       "      <td>(alcohol, ash, alcalinity_of_ash, magnesium, f...</td>\n",
       "      <td>0.0205647</td>\n",
       "      <td>0.016</td>\n",
       "      <td>0.008</td>\n",
       "    </tr>\n",
       "    <tr>\n",
       "      <th>9</th>\n",
       "      <td>(0, 2, 3, 4, 6, 7, 8, 9, 12)</td>\n",
       "      <td>[0.96, 1.0, 1.0, 1.0, 1.0]</td>\n",
       "      <td>0.992</td>\n",
       "      <td>(alcohol, ash, alcalinity_of_ash, magnesium, f...</td>\n",
       "      <td>0.0205647</td>\n",
       "      <td>0.016</td>\n",
       "      <td>0.008</td>\n",
       "    </tr>\n",
       "    <tr>\n",
       "      <th>10</th>\n",
       "      <td>(0, 2, 3, 4, 5, 6, 7, 8, 9, 12)</td>\n",
       "      <td>[0.96, 0.96, 1.0, 1.0, 1.0]</td>\n",
       "      <td>0.984</td>\n",
       "      <td>(alcohol, ash, alcalinity_of_ash, magnesium, t...</td>\n",
       "      <td>0.0251865</td>\n",
       "      <td>0.0195959</td>\n",
       "      <td>0.00979796</td>\n",
       "    </tr>\n",
       "    <tr>\n",
       "      <th>11</th>\n",
       "      <td>(0, 2, 3, 4, 5, 6, 7, 8, 9, 10, 12)</td>\n",
       "      <td>[0.96, 1.0, 0.96, 1.0, 1.0]</td>\n",
       "      <td>0.984</td>\n",
       "      <td>(alcohol, ash, alcalinity_of_ash, magnesium, t...</td>\n",
       "      <td>0.0251865</td>\n",
       "      <td>0.0195959</td>\n",
       "      <td>0.00979796</td>\n",
       "    </tr>\n",
       "    <tr>\n",
       "      <th>12</th>\n",
       "      <td>(0, 1, 2, 3, 4, 5, 6, 7, 8, 9, 10, 12)</td>\n",
       "      <td>[0.96, 1.0, 1.0, 1.0, 1.0]</td>\n",
       "      <td>0.992</td>\n",
       "      <td>(alcohol, malic_acid, ash, alcalinity_of_ash, ...</td>\n",
       "      <td>0.0205647</td>\n",
       "      <td>0.016</td>\n",
       "      <td>0.008</td>\n",
       "    </tr>\n",
       "    <tr>\n",
       "      <th>13</th>\n",
       "      <td>(0, 1, 2, 3, 4, 5, 6, 7, 8, 9, 10, 11, 12)</td>\n",
       "      <td>[0.96, 1.0, 0.96, 1.0, 1.0]</td>\n",
       "      <td>0.984</td>\n",
       "      <td>(alcohol, malic_acid, ash, alcalinity_of_ash, ...</td>\n",
       "      <td>0.0251865</td>\n",
       "      <td>0.0195959</td>\n",
       "      <td>0.00979796</td>\n",
       "    </tr>\n",
       "  </tbody>\n",
       "</table>\n",
       "</div>"
      ],
      "text/plain": [
       "                                   feature_idx  \\\n",
       "1                                         (6,)   \n",
       "2                                       (6, 9)   \n",
       "3                                    (4, 6, 9)   \n",
       "4                                (4, 6, 9, 12)   \n",
       "5                             (2, 4, 6, 9, 12)   \n",
       "6                          (0, 2, 4, 6, 9, 12)   \n",
       "7                       (0, 2, 4, 6, 7, 9, 12)   \n",
       "8                    (0, 2, 3, 4, 6, 7, 9, 12)   \n",
       "9                 (0, 2, 3, 4, 6, 7, 8, 9, 12)   \n",
       "10             (0, 2, 3, 4, 5, 6, 7, 8, 9, 12)   \n",
       "11         (0, 2, 3, 4, 5, 6, 7, 8, 9, 10, 12)   \n",
       "12      (0, 1, 2, 3, 4, 5, 6, 7, 8, 9, 10, 12)   \n",
       "13  (0, 1, 2, 3, 4, 5, 6, 7, 8, 9, 10, 11, 12)   \n",
       "\n",
       "                                     cv_scores avg_score  \\\n",
       "1   [0.76, 0.76, 0.8, 0.8, 0.7916666666666666]  0.782333   \n",
       "2               [0.92, 0.96, 1.0, 0.88, 0.875]     0.927   \n",
       "3    [1.0, 1.0, 1.0, 0.88, 0.9583333333333334]  0.967667   \n",
       "4                  [0.96, 1.0, 0.96, 1.0, 1.0]     0.984   \n",
       "5                  [0.96, 1.0, 0.96, 1.0, 1.0]     0.984   \n",
       "6                   [0.96, 1.0, 1.0, 1.0, 1.0]     0.992   \n",
       "7                   [0.96, 1.0, 1.0, 1.0, 1.0]     0.992   \n",
       "8                   [0.96, 1.0, 1.0, 1.0, 1.0]     0.992   \n",
       "9                   [0.96, 1.0, 1.0, 1.0, 1.0]     0.992   \n",
       "10                 [0.96, 0.96, 1.0, 1.0, 1.0]     0.984   \n",
       "11                 [0.96, 1.0, 0.96, 1.0, 1.0]     0.984   \n",
       "12                  [0.96, 1.0, 1.0, 1.0, 1.0]     0.992   \n",
       "13                 [0.96, 1.0, 0.96, 1.0, 1.0]     0.984   \n",
       "\n",
       "                                        feature_names   ci_bound    std_dev  \\\n",
       "1                                       (flavanoids,)  0.0237615  0.0184872   \n",
       "2                       (flavanoids, color_intensity)  0.0613179  0.0477074   \n",
       "3            (magnesium, flavanoids, color_intensity)  0.0600353  0.0467095   \n",
       "4   (magnesium, flavanoids, color_intensity, proline)  0.0251865  0.0195959   \n",
       "5   (ash, magnesium, flavanoids, color_intensity, ...  0.0251865  0.0195959   \n",
       "6   (alcohol, ash, magnesium, flavanoids, color_in...  0.0205647      0.016   \n",
       "7   (alcohol, ash, magnesium, flavanoids, nonflava...  0.0205647      0.016   \n",
       "8   (alcohol, ash, alcalinity_of_ash, magnesium, f...  0.0205647      0.016   \n",
       "9   (alcohol, ash, alcalinity_of_ash, magnesium, f...  0.0205647      0.016   \n",
       "10  (alcohol, ash, alcalinity_of_ash, magnesium, t...  0.0251865  0.0195959   \n",
       "11  (alcohol, ash, alcalinity_of_ash, magnesium, t...  0.0251865  0.0195959   \n",
       "12  (alcohol, malic_acid, ash, alcalinity_of_ash, ...  0.0205647      0.016   \n",
       "13  (alcohol, malic_acid, ash, alcalinity_of_ash, ...  0.0251865  0.0195959   \n",
       "\n",
       "       std_err  \n",
       "1   0.00924362  \n",
       "2    0.0238537  \n",
       "3    0.0233548  \n",
       "4   0.00979796  \n",
       "5   0.00979796  \n",
       "6        0.008  \n",
       "7        0.008  \n",
       "8        0.008  \n",
       "9        0.008  \n",
       "10  0.00979796  \n",
       "11  0.00979796  \n",
       "12       0.008  \n",
       "13  0.00979796  "
      ]
     },
     "execution_count": 21,
     "metadata": {},
     "output_type": "execute_result"
    }
   ],
   "source": [
    "pd.DataFrame.from_dict(forward_feature_selection.get_metric_dict()).T"
   ]
  },
  {
   "cell_type": "code",
   "execution_count": null,
   "metadata": {},
   "outputs": [],
   "source": []
  }
 ],
 "metadata": {
  "kernelspec": {
   "display_name": "Python 3",
   "language": "python",
   "name": "python3"
  },
  "language_info": {
   "codemirror_mode": {
    "name": "ipython",
    "version": 3
   },
   "file_extension": ".py",
   "mimetype": "text/x-python",
   "name": "python",
   "nbconvert_exporter": "python",
   "pygments_lexer": "ipython3",
   "version": "3.8.3"
  }
 },
 "nbformat": 4,
 "nbformat_minor": 4
}
